{
 "cells": [
  {
   "cell_type": "markdown",
   "id": "4e81b25c",
   "metadata": {},
   "source": [
    "# DL4G - Jass Introduction\n",
    "\n",
    "In this exercise we will look at some properties of the jass kit environment that can be used to develop your own jass agent.\n",
    "\n",
    "You will need to have numpy installed, as well as the jass-kit environment."
   ]
  },
  {
   "cell_type": "code",
   "execution_count": 1,
   "id": "0d71e284",
   "metadata": {
    "ExecuteTime": {
     "start_time": "2024-11-09T20:03:38.126196Z",
     "end_time": "2024-11-09T20:03:38.435510Z"
    }
   },
   "outputs": [],
   "source": [
    "from jass.agents.agent_rule_based import AgentRuleBased\n",
    "from jass.game.game_util import *\n",
    "from jass.game.game_sim import GameSim\n",
    "from jass.game.game_observation import GameObservation\n",
    "from jass.game.const import *\n",
    "from jass.game.rule_schieber import RuleSchieber\n",
    "from jass.agents.agent import Agent\n",
    "from jass.agents.agent_random_schieber import AgentRandomSchieber\n",
    "from jass.arena.arena import Arena\n",
    "# import agent_rule_based.py\n",
    "from jass.agents.agent_rule_based import AgentRuleBased\n",
    "import math\n",
    "import random\n",
    "import copy\n"
   ]
  },
  {
   "cell_type": "markdown",
   "id": "9d510b9e",
   "metadata": {},
   "source": [
    "Information about the cards is stored as one-hot encoded arrays, there are several tools available to access the information in the cards. \n",
    "\n",
    "Lets deal some random cards first."
   ]
  },
  {
   "cell_type": "code",
   "execution_count": 191,
   "id": "19767850",
   "metadata": {
    "ExecuteTime": {
     "end_time": "2024-10-06T20:12:39.013785Z",
     "start_time": "2024-10-06T20:12:39.004012Z"
    }
   },
   "outputs": [
    {
     "name": "stdout",
     "output_type": "stream",
     "text": [
      "(4, 36)\n"
     ]
    }
   ],
   "source": [
    "# Lets set the seed of the random number generater, so that we get the same results\n",
    "np.random.seed(1)\n",
    "\n",
    "# This distributes the cards randomly among the 4 players.\n",
    "hands = deal_random_hand()\n",
    "print(hands.shape)"
   ]
  },
  {
   "cell_type": "code",
   "execution_count": 192,
   "id": "dcd87887",
   "metadata": {
    "ExecuteTime": {
     "end_time": "2024-10-06T20:12:39.025621Z",
     "start_time": "2024-10-06T20:12:39.022333Z"
    }
   },
   "outputs": [
    {
     "name": "stdout",
     "output_type": "stream",
     "text": [
      "[0 0 0 1 0 0 0 0 0 0 0 0 0 0 0 0 0 1 0 1 0 1 0 1 0 0 0 0 1 1 1 0 0 0 1 0]\n"
     ]
    }
   ],
   "source": [
    "# There is an entry for each player, to access the cards of the first player\n",
    "cards = hands[0,:]\n",
    "print(cards)"
   ]
  },
  {
   "cell_type": "code",
   "execution_count": 193,
   "id": "486c3664",
   "metadata": {
    "ExecuteTime": {
     "end_time": "2024-10-06T20:12:39.047686Z",
     "start_time": "2024-10-06T20:12:39.045095Z"
    }
   },
   "outputs": [
    {
     "name": "stdout",
     "output_type": "stream",
     "text": [
      "[np.str_('DJ'), np.str_('H6'), np.str_('SK'), np.str_('SJ'), np.str_('S9'), np.str_('CK'), np.str_('CQ'), np.str_('CJ'), np.str_('C7')]\n",
      "[3, 17, 19, 21, 23, 28, 29, 30, 34]\n"
     ]
    }
   ],
   "source": [
    "# This should be 9 cards\n",
    "assert(cards.sum() == 9)\n",
    "\n",
    "# The cards can be converted to other formats for easier reading or processing\n",
    "print(convert_one_hot_encoded_cards_to_str_encoded_list(cards))\n",
    "\n",
    "# Each card is encoded as a value between 0 and 35.\n",
    "print(convert_one_hot_encoded_cards_to_int_encoded_list(cards))\n"
   ]
  },
  {
   "cell_type": "code",
   "execution_count": 194,
   "id": "89294107",
   "metadata": {
    "ExecuteTime": {
     "end_time": "2024-10-06T20:12:39.065860Z",
     "start_time": "2024-10-06T20:12:39.063712Z"
    }
   },
   "outputs": [
    {
     "name": "stdout",
     "output_type": "stream",
     "text": [
      "[1 1 3 4]\n"
     ]
    }
   ],
   "source": [
    "# There is a method to count colors too\n",
    "colors = count_colors(cards)\n",
    "print(colors)"
   ]
  },
  {
   "cell_type": "markdown",
   "id": "04f591d7",
   "metadata": {},
   "source": [
    "There is a common jass \"rule\" to select trump, when you have the \"Puur\" (Jack of trump) and 3 or more other cards of the same color. \n",
    "\n",
    "Task 1: Write a function that returns an array of 4 values that contains a 1 for each color that fulfills the rule or 0 otherwise, i.e. [0 0 0 0] is returned, if you do not have any color with Jack and 3 other cards.\n"
   ]
  },
  {
   "cell_type": "code",
   "execution_count": 195,
   "id": "92845f51",
   "metadata": {
    "ExecuteTime": {
     "end_time": "2024-10-06T20:12:39.087561Z",
     "start_time": "2024-10-06T20:12:39.085160Z"
    }
   },
   "outputs": [],
   "source": [
    "def havePuurWithFour(hand: np.ndarray) -> np.ndarray:\n",
    "    result = np.zeros(4, dtype=int)\n",
    "    # add your code here\n",
    "    for i in range(4):\n",
    "        if colors[i] > 3:\n",
    "            # checks if there is a buur\n",
    "            if hand[3 + 9 * i] == 1:\n",
    "                result[i] = 1\n",
    "    return result\n",
    "        "
   ]
  },
  {
   "cell_type": "code",
   "execution_count": 196,
   "id": "b1bb875a",
   "metadata": {
    "ExecuteTime": {
     "end_time": "2024-10-06T20:12:39.102169Z",
     "start_time": "2024-10-06T20:12:39.099156Z"
    }
   },
   "outputs": [],
   "source": [
    "assert (havePuurWithFour(cards) == [0, 0, 0, 1]).all()\n",
    "cards_2 = hands[1,:]\n",
    "assert (havePuurWithFour(cards_2) == [0, 0, 0, 0]).all()"
   ]
  },
  {
   "cell_type": "markdown",
   "id": "48371ec4",
   "metadata": {},
   "source": [
    "Another possibility to select trump is by assigning a value to each card, depending on whether the color is trump or not. This table is from the Maturawork of Daniel Graf from 2009: \"Jassen auf Basis der Spieltheorie\"."
   ]
  },
  {
   "cell_type": "code",
   "execution_count": 197,
   "id": "01b078f3",
   "metadata": {
    "ExecuteTime": {
     "end_time": "2024-10-06T20:12:39.113322Z",
     "start_time": "2024-10-06T20:12:39.109454Z"
    }
   },
   "outputs": [],
   "source": [
    "# Score for each card of a color from Ace to 6\n",
    "\n",
    "# score if the color is trump\n",
    "trump_score = [15, 10, 7, 25, 6, 19, 5, 5, 5]\n",
    "# score if the color is not trump\n",
    "no_trump_score = [9, 7, 5, 2, 1, 0, 0, 0, 0]\n",
    "# score if obenabe is selected (all colors)\n",
    "obenabe_score = [14, 10, 8, 7, 5, 0, 5, 0, 0,]\n",
    "# score if uneufe is selected (all colors)\n",
    "uneufe_score = [0, 2, 1, 1, 5, 5, 7, 9, 11]"
   ]
  },
  {
   "cell_type": "markdown",
   "id": "ddd00b63",
   "metadata": {},
   "source": [
    "Task 2: Implement a function that evaluates a hand that is given as a list of 9 cards and with a given trump value and returns a score depending on the table above. For example the score of our hand ['DJ', 'H6', 'SK', 'SJ', 'S9', 'CK', 'CQ', 'CJ', 'C7'] when Club is trump should be:\n",
    "\n",
    "2 + 0 + 7 + 2 + 0 + 10 + 7 + 25 + 5 = 58\n",
    "\n",
    "while the score is 70 if Spade is selected, which is better as you have both the jack and the nine.\n",
    "\n",
    "You can use the arrays offset_of_card and color_of_card to get the offset (Ace, King, etc.) and color of a card."
   ]
  },
  {
   "cell_type": "code",
   "execution_count": null,
   "outputs": [],
   "source": [
    "class Node:\n",
    "    def __init__(self, game_obs, parent=None, move=None):\n",
    "        self.game_obs = game_obs\n",
    "        self.parent = parent\n",
    "        self.move = move\n",
    "        self.children = []\n",
    "        self.visits = 0\n",
    "        self.total_reward = 0\n",
    "        self.ruleset = RuleSchieber()\n",
    "\n",
    "    def add_child(self, child_node):\n",
    "        self.children.append(child_node)\n",
    "\n",
    "    def is_leaf(self):\n",
    "        return len(self.children) == 0\n",
    "\n",
    "    def is_fully_expanded(self):\n",
    "        valid_moves = self.ruleset.get_valid_cards_from_obs(self.game_obs)\n",
    "        return len(valid_moves) == len(self.children)\n",
    "\n",
    "    def best_child(self, exploration_param=1.41):\n",
    "        # print(\"selecting best child\")\n",
    "        # print(self.children)\n",
    "        best = max(self.children, key=lambda child:\n",
    "                   (child.total_reward / child.visits) +\n",
    "                   exploration_param * math.sqrt(math.log(self.visits) / child.visits))\n",
    "        print(f\"best_cild: {best}\\ntotal reward: {best.total_reward}\")\n",
    "        return best"
   ],
   "metadata": {
    "collapsed": false
   }
  },
  {
   "cell_type": "code",
   "execution_count": null,
   "outputs": [],
   "source": [
    "class MCTS:\n",
    "    def __init__(self, player_id, max_depth=15):\n",
    "        self.player_id = player_id\n",
    "        self.ruleset = RuleSchieber()\n",
    "        self.max_depth = max_depth\n",
    "    def selection(self, node):\n",
    "        # tree policy\n",
    "        while not node.game_obs.nr_tricks == 9 and node.is_fully_expanded():\n",
    "            node = node.best_child()\n",
    "        return node\n",
    "\n",
    "    def simulate_move(self, game_obs, move):\n",
    "        game_obs_copy = copy.deepcopy(game_obs)\n",
    "        game_sim = GameSim(RuleSchieber())\n",
    "        # simulated cards\n",
    "        hands = self.generate_opponent_hands(game_obs_copy)\n",
    "        game_sim.init_from_cards(hands, dealer=game_obs_copy.dealer)\n",
    "        game_sim.action_play_card(move)\n",
    "        # print(f\"Move {move} simulated\")\n",
    "        return game_sim.get_observation()\n",
    "\n",
    "    def expansion(self, node):\n",
    "        if node.is_fully_expanded():\n",
    "            return None\n",
    "\n",
    "        valid_moves = convert_one_hot_encoded_cards_to_int_encoded_list(node.ruleset.get_valid_cards_from_obs(node.game_obs))\n",
    "\n",
    "        tried_moves = [child.move for child in node.children]\n",
    "        # print(f\"tried_moves: \\n{tried_moves}\")\n",
    "        # print(f\"valid_moves: \\n{valid_moves}\")\n",
    "        untried_moves = [move for move in valid_moves if move not in tried_moves]\n",
    "\n",
    "        if not untried_moves:\n",
    "            return None\n",
    "\n",
    "        move = random.choice(untried_moves)\n",
    "        # print(f\"chosen_move:\\n{move}\")\n",
    "\n",
    "        new_game_obs = self.simulate_move(node.game_obs, move)\n",
    "\n",
    "        child_node = Node(game_obs=new_game_obs, parent=node, move=move)\n",
    "        node.add_child(child_node)\n",
    "\n",
    "        return child_node\n",
    "    def evaluate_outcome(self, game_obs):\n",
    "        #print(f\"evaluating outcome: \\n{game_obs.points}\")\n",
    "        if game_obs.points[0] == max(game_obs.points):\n",
    "            return 1  # Win\n",
    "        else:\n",
    "            return -1  # Loss\n",
    "\n",
    "    def backpropagate(self, node, outcome):\n",
    "        while node is not None:\n",
    "            node.visits += 1\n",
    "            if node.game_obs.player_view == self.player_id:\n",
    "                node.total_reward += outcome  #\n",
    "            else:\n",
    "                node.total_reward += -outcome  # Opponent's perspective: MCTS agent loses\n",
    "\n",
    "            node = node.parent\n",
    "\n",
    "    def generate_opponent_hands(self, obs):\n",
    "        possible_cards = [i for i in range(36)]\n",
    "\n",
    "        possible_cards = set(possible_cards) ^ set(convert_one_hot_encoded_cards_to_int_encoded_list(obs.hand))\n",
    "        if len(obs.tricks[obs.tricks > 0]):\n",
    "            possible_cards = set(possible_cards) ^ set(obs.tricks[obs.tricks != -1])\n",
    "        unplayed_cards = np.full((1,4), 9 - obs.nr_tricks)[0]\n",
    "\n",
    "        # iterate backwards through players starting from the person who started the trick\n",
    "        for i in range(obs.trick_first_player[obs.nr_tricks], obs.trick_first_player[obs.nr_tricks] - obs.nr_cards_in_trick, -1):\n",
    "            unplayed_cards[i % 4] -= 1 # modulo to loop back to the end, e.g. 1, 0, 3, 2\n",
    "        # print(f\"unplayed_cards: {unplayed_cards}\")\n",
    "\n",
    "        hands = np.zeros(shape=[4, 36], dtype=np.int32)\n",
    "        hands[obs.player_view] = obs.hand\n",
    "\n",
    "        for player_id in range(4):\n",
    "\n",
    "            for i in range(unplayed_cards[player_id]):\n",
    "                if player_id == obs.player_view:\n",
    "                    continue\n",
    "                int_possible_cards = list(possible_cards)\n",
    "                card_choice = random.choice(int_possible_cards)\n",
    "                possible_cards.remove(card_choice)\n",
    "\n",
    "                hands[player_id] += get_cards_encoded(card_choice)\n",
    "        return hands\n",
    "\n",
    "\n",
    "    def simulate(self, game_obs):\n",
    "        # copy the current game state to avoid modifying the original state\n",
    "        simulated_state = copy.deepcopy(game_obs)\n",
    "\n",
    "        for _ in range(self.max_depth):\n",
    "            # Check if the game has ended\n",
    "            if simulated_state.nr_tricks >= 9:\n",
    "                break\n",
    "\n",
    "            valid_moves = convert_one_hot_encoded_cards_to_int_encoded_list(self.ruleset.get_valid_cards_from_obs(game_obs))\n",
    "            if np.sum(valid_moves) == 0:\n",
    "                break\n",
    "\n",
    "            move = random.choice(valid_moves)\n",
    "\n",
    "            simulated_state = self.simulate_move(simulated_state, move)\n",
    "\n",
    "        outcome = self.evaluate_outcome(simulated_state)\n",
    "\n",
    "        return outcome\n"
   ],
   "metadata": {
    "collapsed": false
   }
  },
  {
   "cell_type": "code",
   "execution_count": 198,
   "id": "63297245",
   "metadata": {
    "ExecuteTime": {
     "end_time": "2024-10-06T20:12:39.125015Z",
     "start_time": "2024-10-06T20:12:39.121616Z"
    }
   },
   "outputs": [],
   "source": [
    "def calculate_trump_selection_score2(cards, trump: int) -> int:\n",
    "    # add your code here\n",
    "    trump_selection_score = 0\n",
    "    print(trump_score)\n",
    "    print(\"cards:\", cards, \"trump:\", trump) \n",
    "    if trump < 4:\n",
    "        for i in range(9):\n",
    "            print(\"i:\", i)\n",
    "            if trump * 9 -1 < cards[i] < (trump + 1) * 9 -1:\n",
    "                if cards[i] % 9 == 0:\n",
    "                    trump_selection_score += trump_score[(cards[i] % 9)]\n",
    "                trump_selection_score += trump_score[(cards[i] % 9)]\n",
    "                print(\"score:\", trump_selection_score, \"cardID:\", cards[i], \"i\", (cards[i] % 9) )\n",
    "                \n",
    "    return trump_selection_score    "
   ]
  },
  {
   "cell_type": "code",
   "execution_count": 199,
   "id": "73e285bb250e3b0c",
   "metadata": {
    "ExecuteTime": {
     "end_time": "2024-10-06T20:12:39.136092Z",
     "start_time": "2024-10-06T20:12:39.133484Z"
    }
   },
   "outputs": [],
   "source": [
    "def calculate_trump_selection_score(cards, trump: int) -> int:\n",
    "    # Initialize trump selection score\n",
    "    trump_selection_score = 0\n",
    "    \n",
    "    # Print debug information\n",
    "    #print(\"cards:\", cards, \"trump:\", trump)\n",
    "    \n",
    "    for i in range(9):  # Loop through 9 cards\n",
    "        card_suit = cards[i] // 9  # Get the suit of the card (0 to 3)\n",
    "        card_rank = cards[i] % 9   # Get the rank of the card (0 to 8)\n",
    "        \n",
    "        # If the card suit matches the trump suit, use trump_score\n",
    "        if trump <= 3:\n",
    "            if card_suit == trump:\n",
    "                trump_selection_score += trump_score[card_rank]\n",
    "            else:\n",
    "                # Use a different score array when the card is not from the trump suit\n",
    "                trump_selection_score += no_trump_score[card_rank]  # Example for handling non-trump scores\n",
    "        elif trump == 4:\n",
    "             trump_selection_score += obenabe_score[card_rank]\n",
    "        elif trump == 5:\n",
    "            trump_selection_score += uneufe_score[card_rank]\n",
    "            \n",
    "\n",
    "        # Debug output to trace computation\n",
    "        #print(f\"Card {i}: suit={card_suit}, rank={card_rank}, current score={trump_selection_score}\")\n",
    "    \n",
    "    return trump_selection_score\n"
   ]
  },
  {
   "cell_type": "code",
   "execution_count": 200,
   "id": "0ae55a9d",
   "metadata": {
    "ExecuteTime": {
     "end_time": "2024-10-06T20:12:39.146753Z",
     "start_time": "2024-10-06T20:12:39.144360Z"
    }
   },
   "outputs": [],
   "source": [
    "card_list = convert_one_hot_encoded_cards_to_int_encoded_list(cards)\n",
    "assert calculate_trump_selection_score(card_list, CLUBS) == 58\n",
    "assert calculate_trump_selection_score(card_list, SPADES) == 70"
   ]
  },
  {
   "cell_type": "markdown",
   "id": "4ec0d316",
   "metadata": {},
   "source": [
    "## Agents\n",
    "\n",
    "In order to play a game you have to program an agent that decides on the action. For that you have to override the methods action_trump and action_play_card.\n",
    "\n",
    "Task 3: Use the function implemented above to select the best trump value. If the calculated trump value is below a threshold (for example let us take 68, as suggested in the work by Daniel Graf) you should \"Schiebe\", i.e. pass to your partner if you are still allowed to do that.\n",
    "\n",
    "The game observation allows you to access the information about your card, and if you are the first or second player to select trump.\n",
    "\n",
    "For playing a card, we just take a random action."
   ]
  },
  {
   "cell_type": "code",
   "execution_count": 201,
   "id": "2c8a0c7e",
   "metadata": {
    "ExecuteTime": {
     "end_time": "2024-10-06T20:12:39.159534Z",
     "start_time": "2024-10-06T20:12:39.153980Z"
    }
   },
   "outputs": [],
   "source": [
    "class MyAgent(Agent):\n",
    "    def __init__(self):\n",
    "        super().__init__()\n",
    "        # we need a rule object to determine the valid cards\n",
    "        self._rule = RuleSchieber()\n",
    "        \n",
    "    def calculate_trump_selection_score(self, cards, trump: int) -> int:\n",
    "        # score if the color is trump\n",
    "        trump_score = [15, 10, 7, 25, 6, 19, 5, 5, 5]\n",
    "        # score if the color is not trump\n",
    "        no_trump_score = [9, 7, 5, 2, 1, 0, 0, 0, 0]\n",
    "        # score if obenabe is selected (all colors)\n",
    "        obenabe_score = [14, 10, 8, 7, 5, 0, 5, 0, 0, ]\n",
    "        # score if uneufe is selected (all colors)\n",
    "        uneufe_score = [0, 2, 1, 1, 5, 5, 7, 9, 11]\n",
    "        # Initialize trump selection score\n",
    "        trump_selection_score = 0\n",
    "    \n",
    "        # Print debug information\n",
    "        # print(\"cards:\", cards, \"trump:\", trump)\n",
    "    \n",
    "        for i in range(9):  # Loop through 9 cards\n",
    "            card_suit = cards[i] // 9  # Get the suit of the card (0 to 3)\n",
    "            card_rank = cards[i] % 9  # Get the rank of the card (0 to 8)\n",
    "    \n",
    "            # If the card suit matches the trump suit, use trump_score\n",
    "            if trump <= 3:\n",
    "                if card_suit == trump:\n",
    "                    trump_selection_score += trump_score[card_rank]\n",
    "                else:\n",
    "                    # Use a different score array when the card is not from the trump suit\n",
    "                    trump_selection_score += no_trump_score[card_rank]  # Example for handling non-trump scores\n",
    "            elif trump == 4:\n",
    "                trump_selection_score += obenabe_score[card_rank]\n",
    "            elif trump == 5:\n",
    "                trump_selection_score += uneufe_score[card_rank]\n",
    "    \n",
    "            # Debug output to trace computation\n",
    "            # print(f\"Card {i}: suit={card_suit}, rank={card_rank}, current score={trump_selection_score}\")\n",
    "    \n",
    "        return trump_selection_score\n",
    "        \n",
    "    def action_trump(self, obs: GameObservation) -> int:\n",
    "        \"\"\"\n",
    "        Determine trump action for the given observation\n",
    "        Args:\n",
    "            obs: the game observation, it must be in a state for trump selection\n",
    "        \n",
    "        Returns:\n",
    "            selected trump as encoded in jass.game.const or jass.game.const.PUSH\n",
    "        \"\"\"\n",
    "        # add your code here using the function above\n",
    "        if obs.forehand == -1:\n",
    "        # if forehand is not yet set, we are the forehand player and can select trump or push\n",
    "            trump_scores = [0] * 6 \n",
    "            for i in range(6):\n",
    "                trump_scores[i] = calculate_trump_selection_score(obs.hand, i)\n",
    "\n",
    "    # if not push or forehand, select a trump\n",
    "            result = trump_scores.index(max(trump_scores))\n",
    "            print(\"result:\", result)\n",
    "            if result < 50:\n",
    "                return PUSH\n",
    "            return result\n",
    "\n",
    "    def action_play_card(self, obs: GameObservation) -> int:\n",
    "        \"\"\"\n",
    "        Determine the card to play.\n",
    "\n",
    "        Args:\n",
    "            obs: the game observation\n",
    "\n",
    "        Returns:\n",
    "            the card to play, int encoded as defined in jass.game.const\n",
    "        \"\"\"\n",
    "        valid_cards = self._rule.get_valid_cards_from_obs(obs)\n",
    "        # we use the global random number generator here\n",
    "        return np.random.choice(np.flatnonzero(valid_cards))"
   ]
  },
  {
   "cell_type": "code",
   "execution_count": null,
   "outputs": [],
   "source": [
    "class MCTSAgent(Agent):\n",
    "    def __init__(self, max_iterations=100):\n",
    "        super().__init__()\n",
    "        self.max_iterations = max_iterations\n",
    "        self._rule = RuleSchieber()\n",
    "\n",
    "\n",
    "    def action_trump(self, obs: GameObservation) -> int:\n",
    "        \"\"\"\n",
    "        Determine trump action for the given observation\n",
    "        Args:\n",
    "            obs: the game observation, it must be in a state for trump selection\n",
    "\n",
    "        Returns:\n",
    "            selected trump as encoded in jass.game.const or jass.game.const.PUSH\n",
    "        \"\"\"\n",
    "        hand = obs.hand\n",
    "\n",
    "        d = calculate_trump_selection_score(hand, DIAMONDS)\n",
    "        s = calculate_trump_selection_score(hand, SPADES)\n",
    "        h = calculate_trump_selection_score(hand, HEARTS)\n",
    "        c = calculate_trump_selection_score(hand, CLUBS)\n",
    "        max_points = max((d, s, h, c))\n",
    "\n",
    "        if d == max_points:\n",
    "            return DIAMONDS\n",
    "        elif s == max_points:\n",
    "            return SPADES\n",
    "        elif h == max_points:\n",
    "            return HEARTS\n",
    "        else:\n",
    "            return CLUBS\n",
    "\n",
    "\n",
    "\n",
    "    def action_play_card(self, obs: GameObservation) -> int:\n",
    "        \"\"\"\n",
    "        Determine the card to play using MCTS.\n",
    "        Args:\n",
    "            obs: the game observation\n",
    "\n",
    "        Returns:\n",
    "            the card to play, int encoded as defined in jass.game.const\n",
    "        \"\"\"\n",
    "\n",
    "        mcts = MCTS(obs.player_view)\n",
    "\n",
    "        root = Node(game_obs=obs)\n",
    "\n",
    "        for _ in range(self.max_iterations):\n",
    "            leaf = mcts.selection(root)\n",
    "            child = mcts.expansion(leaf)\n",
    "            if child:\n",
    "                outcome = mcts.simulate(child.game_obs)\n",
    "                mcts.backpropagate(child, outcome)\n",
    "            else:\n",
    "                outcome = mcts.simulate(leaf.game_obs)\n",
    "                mcts.backpropagate(leaf, outcome)\n",
    "\n",
    "        best_move = root.best_child(exploration_param=0).move\n",
    "        return best_move\n",
    "        #return np.random.choice(np.flatnonzero(valid_cards))\n",
    "\n"
   ],
   "metadata": {
    "collapsed": false
   }
  },
  {
   "cell_type": "markdown",
   "id": "1f5b305a",
   "metadata": {},
   "source": [
    "We can use the game simulation to play a game. We will use that to test our implementation, and then use the arena class to play against other agents"
   ]
  },
  {
   "cell_type": "code",
   "execution_count": 202,
   "id": "91df4f83",
   "metadata": {
    "ExecuteTime": {
     "end_time": "2024-10-06T20:12:39.169818Z",
     "start_time": "2024-10-06T20:12:39.167459Z"
    }
   },
   "outputs": [],
   "source": [
    "rule = RuleSchieber()\n",
    "game = GameSim(rule=rule)\n",
    "agent = AgentRuleBased()\n",
    "\n",
    "np.random.seed(1)\n",
    "game.init_from_cards(hands=deal_random_hand(), dealer=NORTH)"
   ]
  },
  {
   "cell_type": "code",
   "execution_count": 203,
   "id": "1f177a07",
   "metadata": {
    "ExecuteTime": {
     "end_time": "2024-10-06T20:12:39.179794Z",
     "start_time": "2024-10-06T20:12:39.177536Z"
    }
   },
   "outputs": [],
   "source": [
    "obs = game.get_observation()"
   ]
  },
  {
   "cell_type": "code",
   "execution_count": null,
   "id": "768c5cce",
   "metadata": {
    "ExecuteTime": {
     "start_time": "2024-10-06T20:12:58.794006Z"
    },
    "jupyter": {
     "is_executing": true
    }
   },
   "outputs": [
    {
     "name": "stdout",
     "output_type": "stream",
     "text": [
      "[np.str_('DA'), np.str_('DK'), np.str_('D9'), np.str_('D6'), np.str_('HA'), np.str_('HQ'), np.str_('HJ'), np.str_('H8'), np.str_('H7')]\n",
      "[1 1 0 0 0 1 0 0 1 1 0 1 1 0 0 1 1 0 0 0 0 0 0 0 0 0 0 0 0 0 0 0 0 0 0 0]\n",
      "result: 0\n"
     ]
    }
   ],
   "source": [
    "cards = convert_one_hot_encoded_cards_to_str_encoded_list(obs.hand)\n",
    "print(cards)\n",
    "print(obs.hand)\n",
    "trump = agent.action_trump(obs)\n",
    "print(f\"Selected trump: {trump}\", \"Hearts:\",HEARTS)  # Debugging output\n",
    "assert trump == HEARTS"
   ]
  },
  {
   "cell_type": "code",
   "execution_count": null,
   "id": "9ccc8b9e",
   "metadata": {},
   "outputs": [],
   "source": [
    "# tell the simulation the selected trump\n",
    "game.action_trump(trump)"
   ]
  },
  {
   "cell_type": "code",
   "execution_count": null,
   "id": "eb8c2956",
   "metadata": {},
   "outputs": [],
   "source": [
    "# play the game to the end and print the result\n",
    "while not game.is_done():\n",
    "    game.action_play_card(agent.action_play_card(game.get_observation()))\n",
    "\n",
    "print(game.state.points)"
   ]
  },
  {
   "cell_type": "markdown",
   "id": "b33d069e",
   "metadata": {},
   "source": [
    "Another possibility to test agents locally is to use the arena. Let us play 100 games against the Random Agent and see if our trump methods makes any difference.\n"
   ]
  },
  {
   "cell_type": "code",
   "execution_count": null,
   "id": "07c99989",
   "metadata": {},
   "outputs": [],
   "source": [
    "arena = Arena(nr_games_to_play=100)\n",
    "arena.set_players(MyAgent(), AgentRandomSchieber(), MyAgent(), AgentRandomSchieber())"
   ]
  },
  {
   "cell_type": "code",
   "execution_count": null,
   "id": "ba8464b5",
   "metadata": {},
   "outputs": [],
   "source": [
    "arena.play_all_games()"
   ]
  },
  {
   "cell_type": "code",
   "execution_count": null,
   "id": "05179929",
   "metadata": {},
   "outputs": [],
   "source": [
    "print(arena.points_team_0.sum(), arena.points_team_1.sum())"
   ]
  },
  {
   "cell_type": "markdown",
   "id": "dd500485",
   "metadata": {},
   "source": [
    "Now you can continue with a rule based implemenation of the card play. Also look at the flask implementation of the service to see how you can get your agent online."
   ]
  }
 ],
 "metadata": {
  "kernelspec": {
   "display_name": "venv",
   "language": "python",
   "name": "python3"
  },
  "language_info": {
   "codemirror_mode": {
    "name": "ipython",
    "version": 3
   },
   "file_extension": ".py",
   "mimetype": "text/x-python",
   "name": "python",
   "nbconvert_exporter": "python",
   "pygments_lexer": "ipython3",
   "version": "3.11.3"
  }
 },
 "nbformat": 4,
 "nbformat_minor": 5
}
